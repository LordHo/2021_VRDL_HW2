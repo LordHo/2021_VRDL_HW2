{
 "cells": [
  {
   "cell_type": "code",
   "execution_count": 13,
   "metadata": {},
   "outputs": [],
   "source": [
    "import os\n",
    "import glob\n",
    "from PIL import Image\n",
    "from tqdm import tqdm"
   ]
  },
  {
   "cell_type": "code",
   "execution_count": 14,
   "metadata": {},
   "outputs": [],
   "source": [
    "def load_yolo_label(label_path, image_shape):\n",
    "    answer_list = []\n",
    "    # width, height = image.size\n",
    "    image_width, image_height = image_shape\n",
    "    with open(label_path, 'r') as f:\n",
    "        for line in f.readlines():\n",
    "            dict_ = {}\n",
    "            label, x_center, y_center, width, height, score = line.split(' ')\n",
    "            x_center, y_center, width, height = float(x_center), float(y_center), float(width), float(height)\n",
    "            width, height = float(width*image_width), float(height*image_height)\n",
    "            x_center, y_center,  = float(x_center*image_width), float(y_center*image_height)\n",
    "            x1, y1 = float(x_center-width/2), float(y_center-height/2)\n",
    "            # [x_center/image_width, y_center/image_height, width/image_width, height/image_height]\n",
    "            image_name = os.path.basename(label_path)\n",
    "            dict_['image_id'] = int(image_name.split('.')[0])\n",
    "            dict_['bbox'] = [x1, y1, width, height]\n",
    "            dict_['score'] = float(score)\n",
    "            dict_['category_id'] = int(label) if int(label) < 10 else 0\n",
    "\n",
    "            answer_list.append(dict_)\n",
    "    return answer_list\n"
   ]
  },
  {
   "cell_type": "code",
   "execution_count": 15,
   "metadata": {},
   "outputs": [
    {
     "name": "stderr",
     "output_type": "stream",
     "text": [
      "100%|██████████| 12953/12953 [00:37<00:00, 345.36it/s]\n"
     ]
    }
   ],
   "source": [
    "exp = 'exp18'\n",
    "\n",
    "label_dir = os.path.join('runs', 'detect', exp, 'labels', '*.txt')\n",
    "label_path_list = glob.glob(label_dir)\n",
    "label_path_list = sorted(label_path_list)\n",
    "# image_name_list = list(map(os.path.basename, label_path_list))\n",
    "\n",
    "image_dir = os.path.join('..', 'data', 'test')\n",
    "# image_path_list = glob.glob(image_dir)\n",
    "# image_path_list = sorted(image_path_list)\n",
    "# print(list(map(os.path.basename, image_path_list))[:5])\n",
    "\n",
    "answer = []\n",
    "\n",
    "for label_path in tqdm(label_path_list):\n",
    "    image_name = os.path.basename(label_path).replace('.txt', '.png')\n",
    "    image_path = os.path.join(image_dir, image_name)\n",
    "    image = Image.open(image_path)\n",
    "    answer += load_yolo_label(label_path, image.size)\n",
    "\n",
    "answer = sorted(answer, key=lambda x: x['image_id'])"
   ]
  },
  {
   "cell_type": "code",
   "execution_count": 16,
   "metadata": {},
   "outputs": [],
   "source": [
    "import json\n",
    "dir_path = f'answer-yolov5-{exp}'\n",
    "os.mkdir(dir_path)\n",
    "print(json.dumps(answer, indent=4), file=open(os.path.join(dir_path, f'answer.json'), 'w'))"
   ]
  }
 ],
 "metadata": {
  "interpreter": {
   "hash": "17e241739ce4afdde722db0ccb05d9d34457e03ec11065accb11781d068833af"
  },
  "kernelspec": {
   "display_name": "Python 3.7.11 64-bit ('VRDL_HW2_': conda)",
   "language": "python",
   "name": "python3"
  },
  "language_info": {
   "codemirror_mode": {
    "name": "ipython",
    "version": 3
   },
   "file_extension": ".py",
   "mimetype": "text/x-python",
   "name": "python",
   "nbconvert_exporter": "python",
   "pygments_lexer": "ipython3",
   "version": "3.7.11"
  },
  "orig_nbformat": 4
 },
 "nbformat": 4,
 "nbformat_minor": 2
}
