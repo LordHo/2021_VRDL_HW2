{
 "cells": [
  {
   "cell_type": "code",
   "execution_count": 7,
   "metadata": {},
   "outputs": [
    {
     "name": "stdout",
     "output_type": "stream",
     "text": [
      "mat_path: ..\\data\\train answer\\digitStruct.mat\n",
      "source_image_dir: ..\\data\\train\n",
      "target_image_dir: ..\\data\\yolov5_train\\images\n",
      "target_label_dir: ..\\data\\yolov5_train\\labels\n"
     ]
    },
    {
     "name": "stderr",
     "output_type": "stream",
     "text": [
      "100%|██████████| 33402/33402 [02:59<00:00, 185.92it/s]\n"
     ]
    }
   ],
   "source": [
    "import os\n",
    "import torch\n",
    "import shutil\n",
    "from PIL import Image\n",
    "from tqdm import tqdm\n",
    "from dataset import YoloTrainConvert\n",
    "\n",
    "def get_image_shape(image_name, image_dir):\n",
    "    image = Image.open(os.path.join(image_dir, image_name))\n",
    "    width, height = image.size\n",
    "    return width, height\n",
    "\n",
    "def convert_box(box, image_width, image_height):\n",
    "    assert len(box) == 4\n",
    "    x1, y1, x2, y2 = box\n",
    "    x_center, y_center = (x1+x2)//2, (y1+y2)//2\n",
    "    width, height = (x2-x1), (y2-y1)\n",
    "    return [x_center/image_width, y_center/image_height, width/image_width, height/image_height]\n",
    "\n",
    "def get_label(target, image_width, image_height):\n",
    "    boxes = target['boxes']\n",
    "    labels = target['labels']\n",
    "    rows = []\n",
    "    for box, label in zip(boxes, labels):\n",
    "        yolo_box = convert_box(box, image_width, image_height)\n",
    "        # print(yolo_box)\n",
    "        row = [label] + yolo_box\n",
    "        rows.append(row)\n",
    "    return rows\n",
    "\n",
    "def write_rows(file_name, file_dir, rows):\n",
    "    f = open(os.path.join(file_dir, file_name), 'w')\n",
    "    for row in rows:\n",
    "        row = list(map(str, row))\n",
    "        # print(row)\n",
    "        f.write(' '.join(row)+'\\n')\n",
    "    f.close()\n",
    "\n",
    "def copy_image(source_path, target_dir):\n",
    "    shutil.copy2(src=source_path, dst=target_dir)\n",
    "\n",
    "mat_path = os.path.join('..', 'data', \"train answer\", 'digitStruct.mat')\n",
    "print(f'mat_path: {mat_path}')\n",
    "\n",
    "source_image_dir = os.path.join('..', 'data', 'train')\n",
    "print(f'source_image_dir: {source_image_dir}')\n",
    "\n",
    "target_image_dir = os.path.join('..', 'data', 'yolov5_train', 'images')\n",
    "print(f'target_image_dir: {target_image_dir}')\n",
    "\n",
    "target_label_dir = os.path.join('..', 'data', 'yolov5_train', 'labels')\n",
    "print(f'target_label_dir: {target_label_dir}')\n",
    "\n",
    "# device = torch.device('cuda' if torch.cuda.is_available() else 'cpu')\n",
    "# print(f'device: {device}')\n",
    "\n",
    "dataset = YoloTrainConvert(mat_path)\n",
    "\n",
    "pbar = tqdm(dataset)\n",
    "\n",
    "for target, image_name in pbar:\n",
    "    image_width, image_height = get_image_shape(image_name, source_image_dir)\n",
    "    rows = get_label(target, image_width, image_height)\n",
    "    label_name = image_name.split('.')[0] + '.txt'\n",
    "    write_rows(label_name, target_label_dir, rows)\n",
    "    source_image_path = os.path.join(source_image_dir, image_name)\n",
    "    copy_image(source_image_path, target_image_dir)\n",
    "    # break"
   ]
  }
 ],
 "metadata": {
  "interpreter": {
   "hash": "17e241739ce4afdde722db0ccb05d9d34457e03ec11065accb11781d068833af"
  },
  "kernelspec": {
   "display_name": "Python 3.7.11 64-bit ('VRDL_HW2_': conda)",
   "language": "python",
   "name": "python3"
  },
  "language_info": {
   "codemirror_mode": {
    "name": "ipython",
    "version": 3
   },
   "file_extension": ".py",
   "mimetype": "text/x-python",
   "name": "python",
   "nbconvert_exporter": "python",
   "pygments_lexer": "ipython3",
   "version": "3.7.11"
  },
  "orig_nbformat": 4
 },
 "nbformat": 4,
 "nbformat_minor": 2
}
